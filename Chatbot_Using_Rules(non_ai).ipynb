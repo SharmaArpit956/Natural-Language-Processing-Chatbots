{
  "nbformat": 4,
  "nbformat_minor": 0,
  "metadata": {
    "colab": {
      "name": "Chatbot_Using_Rules(non ai).ipynb",
      "provenance": []
    },
    "kernelspec": {
      "name": "python3",
      "display_name": "Python 3"
    }
  },
  "cells": [
    {
      "cell_type": "markdown",
      "metadata": {
        "id": "view-in-github"
      },
      "source": [
        "<a href=\"https://colab.research.google.com/github/supertechnician/Chatbot-using-rules/blob/main/Rule_Based_Chatbot.ipynb\" target=\"_parent\"><img src=\"https://colab.research.google.com/assets/colab-badge.svg\" alt=\"Open In Colab\"/></a>"
      ]
    },
    {
      "cell_type": "markdown",
      "metadata": {
        "id": "cd4X29gAkpAw"
      },
      "source": [
        "#Importing Dependencies"
      ]
    },
    {
      "cell_type": "code",
      "metadata": {
        "id": "5QKhTuGakjFu"
      },
      "source": [
        "# Importing modules\r\n",
        "import re\r\n",
        "from nltk.corpus import wordnet\r\n"
      ],
      "execution_count": null,
      "outputs": []
    },
    {
      "cell_type": "markdown",
      "metadata": {
        "id": "PbfJyn0tlN_L"
      },
      "source": [
        "#Defining Responses"
      ]
    },
    {
      "cell_type": "code",
      "metadata": {
        "id": "gtKTwndXlPZD"
      },
      "source": [
        "# Building a dictionary of responses\r\n",
        "responses={\r\n",
        "    'Hello':'Hello! How can I help you?',\r\n",
        "    'Bye':'See you later, thanks for visiting',\r\n",
        "    'student':'Arpit Sharma is the name of the student',\r\n",
        "    'Department':'The course belongs to the centre for Computational Intelligence',\r\n",
        "    'College':'The student is studying at De Montfort University in Leicester, England',\r\n",
        "    'Course':'The student has registered for studying intelligent systems and robotics, MSc, course',\r\n",
        "    'Module':'The student has made the chatbot for Natural Language processing module',\r\n",
        "    'Teacher':'Dr.Aboozar Taherkhani is the teacher of this module',\r\n",
        "    'fallback':'Please ask a question related to the university',\r\n",
        "}\r\n",
        " "
      ],
      "execution_count": null,
      "outputs": []
    },
    {
      "cell_type": "markdown",
      "metadata": {
        "id": "qW4aiPEXkr2F"
      },
      "source": [
        "#Building a List of Keywords"
      ]
    },
    {
      "cell_type": "code",
      "metadata": {
        "colab": {
          "base_uri": "https://localhost:8080/"
        },
        "id": "DwDKAb0mk3MV",
        "outputId": "d9d6bc12-c899-4ab1-fef4-ca55ddf5be6f"
      },
      "source": [
        "import nltk\r\n",
        "nltk.download('wordnet')\r\n",
        "# list_words=['hello','timings','student']\r\n",
        "list_words=[]\r\n",
        "for k in responses:\r\n",
        "  list_words.append(k)\r\n",
        "list_syn={}\r\n",
        "for word in list_words:\r\n",
        "    synonyms=[]\r\n",
        "    for syn in wordnet.synsets(word):\r\n",
        "        for lem in syn.lemmas():\r\n",
        "            \r\n",
        "            # Remove any special characters from synonym strings\r\n",
        "            lem_name = re.sub('[^a-zA-Z0-9 \\n\\.]', ' ', lem.name())\r\n",
        "            synonyms.append(lem_name)\r\n",
        "   \r\n",
        "    list_syn[word]=set(synonyms)\r\n",
        "    \r\n",
        "print(list_syn)"
      ],
      "execution_count": null,
      "outputs": [
        {
          "output_type": "stream",
          "text": [
            "[nltk_data] Downloading package wordnet to /root/nltk_data...\n",
            "[nltk_data]   Package wordnet is already up-to-date!\n",
            "{'Hello': {'how do you do', 'howdy', 'hullo', 'hi', 'hello'}, 'Bye': {'goodby', 'so long', 'goodbye', 'good day', 'good by', 'bye', 'sayonara', 'arrivederci', 'pass', 'au revoir', 'adieu', 'cheerio', 'good bye', 'bye bye', 'adios', 'auf wiedersehen'}, 'student': {'pupil', 'scholarly person', 'bookman', 'scholar', 'educatee', 'student'}, 'Department': {'section', 'department'}, 'College': {'college'}, 'Course': {'class', 'of course', 'course of study', 'grade', 'course', 'course of instruction', 'form', 'path', 'track', 'naturally', 'course of action', 'trend', 'flow', 'line', 'run', 'feed', 'row'}, 'Module': {'mental faculty', 'faculty', 'module'}, 'Teacher': {'teacher', 'instructor'}, 'fallback': {'pullout', 'disengagement', 'fallback'}}\n"
          ],
          "name": "stdout"
        }
      ]
    },
    {
      "cell_type": "markdown",
      "metadata": {
        "id": "l74OLSM2kxX8"
      },
      "source": [
        "#Building a Dictionary of Intents"
      ]
    },
    {
      "cell_type": "code",
      "metadata": {
        "colab": {
          "base_uri": "https://localhost:8080/"
        },
        "id": "OaripUAflHZY",
        "outputId": "7a0676a9-bd4f-4987-cb96-553f555c5a83"
      },
      "source": [
        "# Building dictionary of Intents & Keywords\r\n",
        "keywords={}\r\n",
        "keywords_dict={}\r\n",
        "\r\n",
        "# Defining a new key in the keywords dictionary\r\n",
        "keywords['greet']=[]\r\n",
        "for k in responses:\r\n",
        "  print(k)\r\n",
        "  keywords[k]=[]\r\n",
        "  # Populating the values in the keywords dictionary with synonyms of keywords formatted with RegEx metacharacters \r\n",
        "  for synonym in list(list_syn[k]):\r\n",
        "      keywords[k].append('.*\\\\b'+synonym+'\\\\b.*')\r\n",
        " \r\n",
        "# # Defining a new key in the keywords dictionary\r\n",
        "# keywords['timings']=[]\r\n",
        "\r\n",
        "# # Populating the values in the keywords dictionary with synonyms of keywords formatted with RegEx metacharacters \r\n",
        "# for synonym in list(list_syn['timings']):\r\n",
        "#     keywords['timings'].append('.*\\\\b'+synonym+'\\\\b.*')\r\n",
        " \r\n",
        "for intent, keys in keywords.items():\r\n",
        "    \r\n",
        "    # Joining the values in the keywords dictionary with the OR (|) operator updating them in keywords_dict dictionary\r\n",
        "    keywords_dict[intent]=re.compile('|'.join(keys))\r\n",
        "print (keywords_dict)"
      ],
      "execution_count": null,
      "outputs": [
        {
          "output_type": "stream",
          "text": [
            "Hello\n",
            "Bye\n",
            "student\n",
            "Department\n",
            "College\n",
            "Course\n",
            "Module\n",
            "Teacher\n",
            "fallback\n",
            "{'greet': re.compile(''), 'Hello': re.compile('.*\\\\bhow do you do\\\\b.*|.*\\\\bhowdy\\\\b.*|.*\\\\bhullo\\\\b.*|.*\\\\bhi\\\\b.*|.*\\\\bhello\\\\b.*'), 'Bye': re.compile('.*\\\\bgoodby\\\\b.*|.*\\\\bso long\\\\b.*|.*\\\\bgoodbye\\\\b.*|.*\\\\bgood day\\\\b.*|.*\\\\bgood by\\\\b.*|.*\\\\bbye\\\\b.*|.*\\\\bsayonara\\\\b.*|.*\\\\barrivederci\\\\b.*|.*\\\\bpass\\\\b.*|.*\\\\bau revoir\\\\b.*|.*\\\\badieu\\\\b.*|.*\\), 'student': re.compile('.*\\\\bpupil\\\\b.*|.*\\\\bscholarly person\\\\b.*|.*\\\\bbookman\\\\b.*|.*\\\\bscholar\\\\b.*|.*\\\\beducatee\\\\b.*|.*\\\\bstudent\\\\b.*'), 'Department': re.compile('.*\\\\bsection\\\\b.*|.*\\\\bdepartment\\\\b.*'), 'College': re.compile('.*\\\\bcollege\\\\b.*'), 'Course': re.compile('.*\\\\bclass\\\\b.*|.*\\\\bof course\\\\b.*|.*\\\\bcourse of study\\\\b.*|.*\\\\bgrade\\\\b.*|.*\\\\bcourse\\\\b.*|.*\\\\bcourse of instruction\\\\b.*|.*\\\\bform\\\\b.*|.*\\\\bpath\\\\b.*|.*\\\\btrack\\\\b.*|.*\\\\bnaturally\\\\b.*|.*\\\\bc), 'Module': re.compile('.*\\\\bmental faculty\\\\b.*|.*\\\\bfaculty\\\\b.*|.*\\\\bmodule\\\\b.*'), 'Teacher': re.compile('.*\\\\bteacher\\\\b.*|.*\\\\binstructor\\\\b.*'), 'fallback': re.compile('.*\\\\bpullout\\\\b.*|.*\\\\bdisengagement\\\\b.*|.*\\\\bfallback\\\\b.*')}\n"
          ],
          "name": "stdout"
        }
      ]
    },
    {
      "cell_type": "markdown",
      "metadata": {
        "id": "GnfFodNWlT1S"
      },
      "source": [
        "#Matching Intents and Generating Responses"
      ]
    },
    {
      "cell_type": "code",
      "metadata": {
        "colab": {
          "base_uri": "https://localhost:8080/"
        },
        "id": "JyyfNkW-lVO4",
        "outputId": "7f6148f6-cf22-45b1-b327-7d2d05985008"
      },
      "source": [
        "print (\"Welcome to DMU University. How may I help you?\"+\"\\n\")\r\n",
        "\r\n",
        "# While loop to run the chatbot indefinetely\r\n",
        "while (True):  \r\n",
        "    \r\n",
        "    # Takes the user input and converts all characters to lowercase\r\n",
        "    user_input = input().lower()\r\n",
        "    \r\n",
        "    # Defining the Chatbot's exit condition\r\n",
        "    if user_input == 'quit': \r\n",
        "        print (\"Thank you for visiting.\")\r\n",
        "        break    \r\n",
        "    \r\n",
        "    matched_intent = None \r\n",
        "    \r\n",
        "    for intent,pattern in keywords_dict.items():\r\n",
        "        \r\n",
        "        # Using the regular expression search function to look for keywords in user input\r\n",
        "        if re.search(pattern, user_input): \r\n",
        "            \r\n",
        "            # if a keyword matches, select the corresponding intent from the keywords_dict dictionary\r\n",
        "            matched_intent=intent  \r\n",
        "    \r\n",
        "    # The fallback intent is selected by default\r\n",
        "    key='fallback' \r\n",
        "    if matched_intent in responses:\r\n",
        "        \r\n",
        "        # If a keyword matches, the fallback intent is replaced by the matched intent as the key for the responses dictionary\r\n",
        "        key = matched_intent \r\n",
        "    \r\n",
        "    # The chatbot prints the response that matches the selected intent\r\n",
        "    print (responses[key] +\"\\n\") "
      ],
      "execution_count": null,
      "outputs": [
        {
          "output_type": "stream",
          "text": [
            "Welcome to DMU University. How may I help you?\n",
            "\n",
            "Hi\n",
            "Hello! How can I help you?\n",
            "\n",
            "What is the name of the student?\n",
            "Arpit Sharma is the name of the student\n",
            "\n",
            "What is the name of the department?\n",
            "The course belongs to the centre for Computational Intelligence\n",
            "\n",
            "What is the name of the college?\n",
            "The student is studying at De Montfort University in Leicester, England\n",
            "\n",
            "Which course is he studying?\n",
            "The student has registered for studying intelligent systems and robotics, MSc, course\n",
            "\n",
            "What is the name of this module for which he has made this chatbot?\n",
            "The student has made the chatbot for Natural Language processing module\n",
            "\n",
            "Who is the teacher?\n",
            "Dr.Aboozar Taherkhani is the teacher of this module\n",
            "\n",
            "When is the next football match? \n",
            "Please ask a question related to the university\n",
            "\n",
            "Bye\n",
            "See you later, thanks for visiting\n",
            "\n"
          ],
          "name": "stdout"
        }
      ]
    }
  ]
}