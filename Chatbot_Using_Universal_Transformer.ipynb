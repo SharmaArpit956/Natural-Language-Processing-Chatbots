{
  "nbformat": 4,
  "nbformat_minor": 0,
  "metadata": {
    "kernelspec": {
      "display_name": "Python 3",
      "language": "python",
      "name": "python3"
    },
    "language_info": {
      "codemirror_mode": {
        "name": "ipython",
        "version": 3
      },
      "file_extension": ".py",
      "mimetype": "text/x-python",
      "name": "python",
      "nbconvert_exporter": "python",
      "pygments_lexer": "ipython3",
      "version": "3.7.4"
    },
    "colab": {
      "name": "Chatbot_Using_Universal_Transformer.ipynb",
      "provenance": []
    },
    "accelerator": "GPU"
  },
  "cells": [
    {
      "cell_type": "markdown",
      "metadata": {
        "id": "view-in-github"
      },
      "source": [
        "<a href=\"https://colab.research.google.com/github/supertechnician/Chatbot-using-Transformers/blob/main/universal_transformer_chatbot.ipynb\" target=\"_parent\"><img src=\"https://colab.research.google.com/assets/colab-badge.svg\" alt=\"Open In Colab\"/></a>"
      ]
    },
    {
      "cell_type": "code",
      "metadata": {
        "id": "xSPtxhC-MZTB"
      },
      "source": [
        "from collections import Counter\n",
        "import json\n",
        "import torch\n",
        "import torch.nn as nn\n",
        "from torch.utils.data import Dataset\n",
        "import torch.utils.data\n",
        "import math\n",
        "import torch.nn.functional as F\n",
        "import os"
      ],
      "execution_count": null,
      "outputs": []
    },
    {
      "cell_type": "code",
      "metadata": {
        "colab": {
          "base_uri": "https://localhost:8080/"
        },
        "id": "1ZbwFTt4Mfqk",
        "outputId": "15831a39-a6ff-4f66-80a0-636197ff1043"
      },
      "source": [
        "from google.colab import drive\r\n",
        "drive.mount('/content/drive')\r\n",
        "corpus_name = \"cornell movie-dialogs corpus\"\r\n",
        "corpus = os.path.join(\"/content/drive/My Drive/Colab Notebooks/data\", corpus_name)"
      ],
      "execution_count": null,
      "outputs": [
        {
          "output_type": "stream",
          "text": [
            "Drive already mounted at /content/drive; to attempt to forcibly remount, call drive.mount(\"/content/drive\", force_remount=True).\n"
          ],
          "name": "stdout"
        }
      ]
    },
    {
      "cell_type": "code",
      "metadata": {
        "id": "Emaye_JYMZTE"
      },
      "source": [
        "corpus_movie_conv = os.path.join(corpus, \"movie_conversations.txt\")\n",
        "corpus_movie_lines = os.path.join(corpus, \"movie_lines.txt\")\n",
        "max_len = 25"
      ],
      "execution_count": null,
      "outputs": []
    },
    {
      "cell_type": "code",
      "metadata": {
        "id": "X_1WTZdwMZTF"
      },
      "source": [
        "with open(corpus_movie_conv, 'r',encoding='iso-8859-1') as c:\n",
        "    conv = c.readlines()"
      ],
      "execution_count": null,
      "outputs": []
    },
    {
      "cell_type": "code",
      "metadata": {
        "id": "9jQOqiwXMZTF"
      },
      "source": [
        "with open(corpus_movie_lines, 'r',encoding='iso-8859-1') as l:\n",
        "    lines = l.readlines()"
      ],
      "execution_count": null,
      "outputs": []
    },
    {
      "cell_type": "code",
      "metadata": {
        "id": "VkStyQ5GMZTG"
      },
      "source": [
        "lines_dic = {}\n",
        "for line in lines:\n",
        "    objects = line.split(\" +++$+++ \")\n",
        "    lines_dic[objects[0]] = objects[-1]"
      ],
      "execution_count": null,
      "outputs": []
    },
    {
      "cell_type": "code",
      "metadata": {
        "id": "mjhyEC1rMZTG"
      },
      "source": [
        "def remove_punc(string):\n",
        "    punctuations = '''!()-[]{};:'\"\\,<>./?@#$%^&*_~'''\n",
        "    no_punct = \"\"\n",
        "    for char in string:\n",
        "        if char not in punctuations:\n",
        "            no_punct = no_punct + char  # space is also a character\n",
        "    return no_punct.lower()"
      ],
      "execution_count": null,
      "outputs": []
    },
    {
      "cell_type": "code",
      "metadata": {
        "id": "Uq4JziB0MZTG"
      },
      "source": [
        "pairs = []\n",
        "for con in conv:\n",
        "    ids = eval(con.split(\" +++$+++ \")[-1])\n",
        "    for i in range(len(ids)):\n",
        "        qa_pairs = []\n",
        "        \n",
        "        if i==len(ids)-1:\n",
        "            break\n",
        "        \n",
        "        first = remove_punc(lines_dic[ids[i]].strip())      \n",
        "        second = remove_punc(lines_dic[ids[i+1]].strip())\n",
        "        qa_pairs.append(first.split()[:max_len])\n",
        "        qa_pairs.append(second.split()[:max_len])\n",
        "        pairs.append(qa_pairs)"
      ],
      "execution_count": null,
      "outputs": []
    },
    {
      "cell_type": "code",
      "metadata": {
        "id": "jRDi6z1NMZTH"
      },
      "source": [
        "word_freq = Counter()\n",
        "for pair in pairs:\n",
        "    word_freq.update(pair[0])\n",
        "    word_freq.update(pair[1])"
      ],
      "execution_count": null,
      "outputs": []
    },
    {
      "cell_type": "code",
      "metadata": {
        "id": "rfc0gh2pMZTI"
      },
      "source": [
        "min_word_freq = 5\n",
        "words = [w for w in word_freq.keys() if word_freq[w] > min_word_freq]\n",
        "word_map = {k: v + 1 for v, k in enumerate(words)}\n",
        "word_map['<unk>'] = len(word_map) + 1\n",
        "word_map['<start>'] = len(word_map) + 1\n",
        "word_map['<end>'] = len(word_map) + 1\n",
        "word_map['<pad>'] = 0"
      ],
      "execution_count": null,
      "outputs": []
    },
    {
      "cell_type": "code",
      "metadata": {
        "colab": {
          "base_uri": "https://localhost:8080/"
        },
        "id": "9-GpPowjMZTI",
        "outputId": "0ce3daa3-810a-4b7f-a640-27f67b29eb84"
      },
      "source": [
        "print(\"Total words are: {}\".format(len(word_map)))"
      ],
      "execution_count": null,
      "outputs": [
        {
          "output_type": "stream",
          "text": [
            "Total words are: 18243\n"
          ],
          "name": "stdout"
        }
      ]
    },
    {
      "cell_type": "code",
      "metadata": {
        "id": "rsUELwkqMZTJ"
      },
      "source": [
        "with open('WORDMAP_corpus.json', 'w') as j:\n",
        "    json.dump(word_map, j)"
      ],
      "execution_count": null,
      "outputs": []
    },
    {
      "cell_type": "code",
      "metadata": {
        "id": "wTBrfPiiMZTL"
      },
      "source": [
        "def encode_question(words, word_map):\n",
        "    enc_c = [word_map.get(word, word_map['<unk>']) for word in words] + [word_map['<pad>']] * (max_len - len(words))\n",
        "    return enc_c"
      ],
      "execution_count": null,
      "outputs": []
    },
    {
      "cell_type": "code",
      "metadata": {
        "id": "0a8Izi1BMZTM"
      },
      "source": [
        "def encode_reply(words, word_map):\n",
        "    enc_c = [word_map['<start>']] + [word_map.get(word, word_map['<unk>']) for word in words] + \\\n",
        "    [word_map['<end>']] + [word_map['<pad>']] * (max_len - len(words))\n",
        "    return enc_c"
      ],
      "execution_count": null,
      "outputs": []
    },
    {
      "cell_type": "code",
      "metadata": {
        "id": "_aMB13VQMZTM"
      },
      "source": [
        "pairs_encoded = []\n",
        "for pair in pairs:\n",
        "    qus = encode_question(pair[0], word_map)\n",
        "    ans = encode_reply(pair[1], word_map)\n",
        "    pairs_encoded.append([qus, ans])"
      ],
      "execution_count": null,
      "outputs": []
    },
    {
      "cell_type": "code",
      "metadata": {
        "id": "PNaSvZl8MZTM"
      },
      "source": [
        "with open('pairs_encoded.json', 'w') as p:\n",
        "    json.dump(pairs_encoded, p)"
      ],
      "execution_count": null,
      "outputs": []
    },
    {
      "cell_type": "code",
      "metadata": {
        "id": "1BqFGGuNMZTM"
      },
      "source": [
        "# rev_word_map = {v: k for k, v in word_map.items()}\n",
        "# ' '.join([rev_word_map[v] for v in pairs_encoded[1][0]])"
      ],
      "execution_count": null,
      "outputs": []
    },
    {
      "cell_type": "code",
      "metadata": {
        "id": "GPgHcgSkMZTN"
      },
      "source": [
        "class Dataset(Dataset):\n",
        "\n",
        "    def __init__(self):\n",
        "\n",
        "        self.pairs = json.load(open('pairs_encoded.json'))\n",
        "        self.dataset_size = len(self.pairs)\n",
        "\n",
        "    def __getitem__(self, i):\n",
        "        \n",
        "        question = torch.LongTensor(self.pairs[i][0])\n",
        "        reply = torch.LongTensor(self.pairs[i][1])\n",
        "            \n",
        "        return question, reply\n",
        "\n",
        "    def __len__(self):\n",
        "        return self.dataset_size"
      ],
      "execution_count": null,
      "outputs": []
    },
    {
      "cell_type": "code",
      "metadata": {
        "id": "XPDxwQGgMZTN"
      },
      "source": [
        "train_loader = torch.utils.data.DataLoader(Dataset(),\n",
        "                                           batch_size = 100, \n",
        "                                           shuffle=True, \n",
        "                                           pin_memory=True)"
      ],
      "execution_count": null,
      "outputs": []
    },
    {
      "cell_type": "code",
      "metadata": {
        "id": "0YTxXZ5eMZTN"
      },
      "source": [
        "# question, reply = next(iter(train_loader))"
      ],
      "execution_count": null,
      "outputs": []
    },
    {
      "cell_type": "code",
      "metadata": {
        "id": "39pyxpTzMZTO"
      },
      "source": [
        "def create_masks(question, reply_input, reply_target):\n",
        "    \n",
        "    def subsequent_mask(size):\n",
        "        mask = torch.triu(torch.ones(size, size)).transpose(0, 1).type(dtype=torch.uint8)\n",
        "        return mask.unsqueeze(0)\n",
        "    \n",
        "    question_mask = question!=0\n",
        "    question_mask = question_mask.to(device)\n",
        "    question_mask = question_mask.unsqueeze(1).unsqueeze(1)         # (batch_size, 1, 1, max_words)\n",
        "     \n",
        "    reply_input_mask = reply_input!=0\n",
        "    reply_input_mask = reply_input_mask.unsqueeze(1)  # (batch_size, 1, max_words)\n",
        "    reply_input_mask = reply_input_mask & subsequent_mask(reply_input.size(-1)).type_as(reply_input_mask.data) \n",
        "    reply_input_mask = reply_input_mask.unsqueeze(1) # (batch_size, 1, max_words, max_words)\n",
        "    reply_target_mask = reply_target!=0              # (batch_size, max_words)\n",
        "    \n",
        "    return question_mask, reply_input_mask, reply_target_mask"
      ],
      "execution_count": null,
      "outputs": []
    },
    {
      "cell_type": "code",
      "metadata": {
        "id": "1OLQlPESMZTO"
      },
      "source": [
        "class Embeddings(nn.Module):\n",
        "    \"\"\"\n",
        "    Implements embeddings of the words and adds their positional encodings. \n",
        "    \"\"\"\n",
        "    def __init__(self, vocab_size, d_model, max_len = 50, num_layers = 6):\n",
        "        super(Embeddings, self).__init__()\n",
        "        self.d_model = d_model\n",
        "        self.dropout = nn.Dropout(0.1)\n",
        "        self.embed = nn.Embedding(vocab_size, d_model)\n",
        "        self.pe = self.create_positinal_encoding(max_len, self.d_model)     # (1, max_len, d_model)\n",
        "        self.te = self.create_positinal_encoding(num_layers, self.d_model)  # (1, num_layers, d_model)\n",
        "        self.dropout = nn.Dropout(0.1)\n",
        "        \n",
        "    def create_positinal_encoding(self, max_len, d_model):\n",
        "        pe = torch.zeros(max_len, d_model).to(device)\n",
        "        for pos in range(max_len):   # for each position of the word\n",
        "            for i in range(0, d_model, 2):   # for each dimension of the each position\n",
        "                pe[pos, i] = math.sin(pos / (10000 ** ((2 * i)/d_model)))\n",
        "                pe[pos, i + 1] = math.cos(pos / (10000 ** ((2 * (i + 1))/d_model)))\n",
        "        pe = pe.unsqueeze(0)   # include the batch size\n",
        "        return pe\n",
        "        \n",
        "    def forward(self, embedding, layer_idx):\n",
        "        if layer_idx == 0:\n",
        "            embedding = self.embed(embedding) * math.sqrt(self.d_model)\n",
        "        embedding += self.pe[:, :embedding.size(1)]   # pe will automatically be expanded with the same batch size as encoded_words\n",
        "        # embedding: (batch_size, max_len, d_model), te: (batch_size, 1, d_model)\n",
        "        embedding += self.te[:, layer_idx, :].unsqueeze(1).repeat(1, embedding.size(1), 1)\n",
        "        embedding = self.dropout(embedding)\n",
        "        return embedding"
      ],
      "execution_count": null,
      "outputs": []
    },
    {
      "cell_type": "code",
      "metadata": {
        "id": "zxuhIEv0MZTO"
      },
      "source": [
        "class MultiHeadAttention(nn.Module):\n",
        "    \n",
        "    def __init__(self, heads, d_model):\n",
        "        \n",
        "        super(MultiHeadAttention, self).__init__()\n",
        "        assert d_model % heads == 0\n",
        "        self.d_k = d_model // heads\n",
        "        self.heads = heads\n",
        "        self.dropout = nn.Dropout(0.1)\n",
        "        self.query = nn.Linear(d_model, d_model)\n",
        "        self.key = nn.Linear(d_model, d_model)\n",
        "        self.value = nn.Linear(d_model, d_model)\n",
        "        self.concat = nn.Linear(d_model, d_model)\n",
        "        \n",
        "    def forward(self, query, key, value, mask):\n",
        "        \"\"\"\n",
        "        query, key, value of shape: (batch_size, max_len, 512)\n",
        "        mask of shape: (batch_size, 1, 1, max_words)\n",
        "        \"\"\"\n",
        "        # (batch_size, max_len, 512)\n",
        "        query = self.query(query)\n",
        "        key = self.key(key)        \n",
        "        value = self.value(value)   \n",
        "        \n",
        "        # (batch_size, max_len, 512) --> (batch_size, max_len, h, d_k) --> (batch_size, h, max_len, d_k)\n",
        "        query = query.view(query.shape[0], -1, self.heads, self.d_k).permute(0, 2, 1, 3)   \n",
        "        key = key.view(key.shape[0], -1, self.heads, self.d_k).permute(0, 2, 1, 3)  \n",
        "        value = value.view(value.shape[0], -1, self.heads, self.d_k).permute(0, 2, 1, 3)  \n",
        "        \n",
        "        # (batch_size, h, max_len, d_k) matmul (batch_size, h, d_k, max_len) --> (batch_size, h, max_len, max_len)\n",
        "        scores = torch.matmul(query, key.permute(0,1,3,2)) / math.sqrt(query.size(-1))\n",
        "        scores = scores.masked_fill(mask == 0, -1e9)    # (batch_size, h, max_len, max_len)\n",
        "        weights = F.softmax(scores, dim = -1)           # (batch_size, h, max_len, max_len)\n",
        "        weights = self.dropout(weights)\n",
        "        # (batch_size, h, max_len, max_len) matmul (batch_size, h, max_len, d_k) --> (batch_size, h, max_len, d_k)\n",
        "        context = torch.matmul(weights, value)\n",
        "        # (batch_size, h, max_len, d_k) --> (batch_size, max_len, h, d_k) --> (batch_size, max_len, h * d_k)\n",
        "        context = context.permute(0,2,1,3).contiguous().view(context.shape[0], -1, self.heads * self.d_k)\n",
        "        # (batch_size, max_len, h * d_k)\n",
        "        interacted = self.concat(context)\n",
        "        return interacted "
      ],
      "execution_count": null,
      "outputs": []
    },
    {
      "cell_type": "code",
      "metadata": {
        "id": "fhoQefF3MZTP"
      },
      "source": [
        "class FeedForward(nn.Module):\n",
        "\n",
        "    def __init__(self, d_model, middle_dim = 2048):\n",
        "        super(FeedForward, self).__init__()\n",
        "        \n",
        "        self.fc1 = nn.Linear(d_model, middle_dim)\n",
        "        self.fc2 = nn.Linear(middle_dim, d_model)\n",
        "        self.dropout = nn.Dropout(0.1)\n",
        "\n",
        "    def forward(self, x):\n",
        "        out = F.relu(self.fc1(x))\n",
        "        out = self.fc2(self.dropout(out))\n",
        "        return out"
      ],
      "execution_count": null,
      "outputs": []
    },
    {
      "cell_type": "code",
      "metadata": {
        "id": "_TkIwOteMZTQ"
      },
      "source": [
        "class EncoderLayer(nn.Module):\n",
        "\n",
        "    def __init__(self, d_model, heads):\n",
        "        super(EncoderLayer, self).__init__()\n",
        "        self.layernorm = nn.LayerNorm(d_model)\n",
        "        self.self_multihead = MultiHeadAttention(heads, d_model)\n",
        "        self.feed_forward = FeedForward(d_model)\n",
        "        self.dropout = nn.Dropout(0.1)\n",
        "\n",
        "    def forward(self, embeddings, mask):\n",
        "        interacted = self.dropout(self.self_multihead(embeddings, embeddings, embeddings, mask))\n",
        "        interacted = self.layernorm(interacted + embeddings)\n",
        "        feed_forward_out = self.dropout(self.feed_forward(interacted))\n",
        "        encoded = self.layernorm(feed_forward_out + interacted)\n",
        "        return encoded"
      ],
      "execution_count": null,
      "outputs": []
    },
    {
      "cell_type": "code",
      "metadata": {
        "id": "PmRFMuMNMZTQ"
      },
      "source": [
        "class DecoderLayer(nn.Module):\n",
        "    \n",
        "    def __init__(self, d_model, heads):\n",
        "        super(DecoderLayer, self).__init__()\n",
        "        self.layernorm = nn.LayerNorm(d_model)\n",
        "        self.self_multihead = MultiHeadAttention(heads, d_model)\n",
        "        self.src_multihead = MultiHeadAttention(heads, d_model)\n",
        "        self.feed_forward = FeedForward(d_model)\n",
        "        self.dropout = nn.Dropout(0.1)\n",
        "        \n",
        "    def forward(self, embeddings, encoded, src_mask, target_mask):\n",
        "        query = self.dropout(self.self_multihead(embeddings, embeddings, embeddings, target_mask))\n",
        "        query = self.layernorm(query + embeddings)\n",
        "        interacted = self.dropout(self.src_multihead(query, encoded, encoded, src_mask))\n",
        "        interacted = self.layernorm(interacted + query)\n",
        "        feed_forward_out = self.dropout(self.feed_forward(interacted))\n",
        "        decoded = self.layernorm(feed_forward_out + interacted)\n",
        "        return decoded"
      ],
      "execution_count": null,
      "outputs": []
    },
    {
      "cell_type": "code",
      "metadata": {
        "id": "ieyJiPbmMZTR"
      },
      "source": [
        "class Transformer(nn.Module):\n",
        "    \n",
        "    def __init__(self, d_model, heads, num_layers, word_map):\n",
        "        super(Transformer, self).__init__()\n",
        "        \n",
        "        self.d_model = d_model\n",
        "        self.num_layers = num_layers\n",
        "        self.vocab_size = len(word_map)\n",
        "        self.embed = Embeddings(self.vocab_size, d_model, num_layers = num_layers)\n",
        "        self.encoder = EncoderLayer(d_model, heads) \n",
        "        self.decoder = DecoderLayer(d_model, heads)\n",
        "        self.logit = nn.Linear(d_model, self.vocab_size)\n",
        "        \n",
        "    def encode(self, src_embeddings, src_mask):\n",
        "        for i in range(self.num_layers):\n",
        "            src_embeddings = self.embed(src_embeddings, i)\n",
        "            src_embeddings = self.encoder(src_embeddings, src_mask)\n",
        "        return src_embeddings\n",
        "    \n",
        "    def decode(self, tgt_embeddings, target_mask, src_embeddings, src_mask):\n",
        "        for i in range(self.num_layers):\n",
        "            tgt_embeddings = self.embed(tgt_embeddings, i)\n",
        "            tgt_embeddings = self.decoder(tgt_embeddings, src_embeddings, src_mask, target_mask)\n",
        "        return tgt_embeddings\n",
        "        \n",
        "    def forward(self, src_words, src_mask, target_words, target_mask):\n",
        "        encoded = self.encode(src_words, src_mask)\n",
        "        decoded = self.decode(target_words, target_mask, encoded, src_mask)\n",
        "        out = F.log_softmax(self.logit(decoded), dim = 2)\n",
        "        return out"
      ],
      "execution_count": null,
      "outputs": []
    },
    {
      "cell_type": "code",
      "metadata": {
        "id": "i6PQevYMMZTR"
      },
      "source": [
        "class AdamWarmup:\n",
        "    \n",
        "    def __init__(self, model_size, warmup_steps, optimizer):\n",
        "        \n",
        "        self.model_size = model_size\n",
        "        self.warmup_steps = warmup_steps\n",
        "        self.optimizer = optimizer\n",
        "        self.current_step = 0\n",
        "        self.lr = 0\n",
        "        \n",
        "    def get_lr(self):\n",
        "        return self.model_size ** (-0.5) * min(self.current_step ** (-0.5), self.current_step * self.warmup_steps ** (-1.5))\n",
        "        \n",
        "    def step(self):\n",
        "        # Increment the number of steps each time we call the step function\n",
        "        self.current_step += 1\n",
        "        lr = self.get_lr()\n",
        "        for param_group in self.optimizer.param_groups:\n",
        "            param_group['lr'] = lr\n",
        "        # update the learning rate\n",
        "        self.lr = lr\n",
        "        self.optimizer.step()       "
      ],
      "execution_count": null,
      "outputs": []
    },
    {
      "cell_type": "code",
      "metadata": {
        "id": "KZFcggMfMZTS"
      },
      "source": [
        "class LossWithLS(nn.Module):\n",
        "\n",
        "    def __init__(self, size, smooth):\n",
        "        super(LossWithLS, self).__init__()\n",
        "        self.criterion = nn.KLDivLoss(size_average=False, reduce=False)\n",
        "        self.confidence = 1.0 - smooth\n",
        "        self.smooth = smooth\n",
        "        self.size = size\n",
        "        \n",
        "    def forward(self, prediction, target, mask):\n",
        "        \"\"\"\n",
        "        prediction of shape: (batch_size, max_words, vocab_size)\n",
        "        target and mask of shape: (batch_size, max_words)\n",
        "        \"\"\"\n",
        "        prediction = prediction.view(-1, prediction.size(-1))   # (batch_size * max_words, vocab_size)\n",
        "        target = target.contiguous().view(-1)   # (batch_size * max_words)\n",
        "        mask = mask.float()\n",
        "        mask = mask.view(-1)       # (batch_size * max_words)\n",
        "        labels = prediction.data.clone()\n",
        "        labels.fill_(self.smooth / (self.size - 1))\n",
        "        labels.scatter_(1, target.data.unsqueeze(1), self.confidence)\n",
        "        loss = self.criterion(prediction, labels)    # (batch_size * max_words, vocab_size)\n",
        "        loss = (loss.sum(1) * mask).sum() / mask.sum()\n",
        "        return loss"
      ],
      "execution_count": null,
      "outputs": []
    },
    {
      "cell_type": "code",
      "metadata": {
        "colab": {
          "base_uri": "https://localhost:8080/"
        },
        "id": "LVA3Ka5aMZTT",
        "outputId": "7d4cb248-c722-4f28-a8bb-247a35873995"
      },
      "source": [
        "d_model = 512\n",
        "heads = 8\n",
        "num_layers = 6\n",
        "device = torch.device(\"cuda\" if torch.cuda.is_available() else \"cpu\")\n",
        "epochs = 9\n",
        "\n",
        "with open('WORDMAP_corpus.json', 'r') as j:\n",
        "    word_map = json.load(j)\n",
        "    \n",
        "transformer = Transformer(d_model = d_model, heads = heads, num_layers = num_layers, word_map = word_map)\n",
        "transformer = transformer.to(device)\n",
        "adam_optimizer = torch.optim.Adam(transformer.parameters(), lr=0, betas=(0.9, 0.98), eps=1e-9)\n",
        "transformer_optimizer = AdamWarmup(model_size = d_model, warmup_steps = 4000, optimizer = adam_optimizer)\n",
        "criterion = LossWithLS(len(word_map), 0.2)"
      ],
      "execution_count": null,
      "outputs": [
        {
          "output_type": "stream",
          "text": [
            "/usr/local/lib/python3.6/dist-packages/torch/nn/_reduction.py:44: UserWarning: size_average and reduce args will be deprecated, please use reduction='none' instead.\n",
            "  warnings.warn(warning.format(ret))\n"
          ],
          "name": "stderr"
        }
      ]
    },
    {
      "cell_type": "code",
      "metadata": {
        "id": "4GO9ZpA3MZTT"
      },
      "source": [
        "def train(train_loader, transformer, criterion, epoch):\n",
        "    \n",
        "    transformer.train()\n",
        "    sum_loss = 0\n",
        "    count = 0\n",
        "\n",
        "    for i, (question, reply) in enumerate(train_loader):\n",
        "        \n",
        "        samples = question.shape[0]\n",
        "\n",
        "        # Move to device\n",
        "        question = question.to(device)\n",
        "        reply = reply.to(device)\n",
        "\n",
        "        # Prepare Target Data\n",
        "        reply_input = reply[:, :-1]\n",
        "        reply_target = reply[:, 1:]\n",
        "\n",
        "        # Create mask and add dimensions\n",
        "        question_mask, reply_input_mask, reply_target_mask = create_masks(question, reply_input, reply_target)\n",
        "\n",
        "        # Get the transformer outputs\n",
        "        out = transformer(question, question_mask, reply_input, reply_input_mask)\n",
        "\n",
        "        # Compute the loss\n",
        "        loss = criterion(out, reply_target, reply_target_mask)\n",
        "        \n",
        "        # Backprop\n",
        "        transformer_optimizer.optimizer.zero_grad()\n",
        "        loss.backward()\n",
        "        transformer_optimizer.step()\n",
        "        \n",
        "        sum_loss += loss.item() * samples\n",
        "        count += samples\n",
        "        \n",
        "        if i % 100 == 0:\n",
        "            print(\"Epoch [{}][{}/{}]\\tLoss: {:.3f}\".format(epoch, i, len(train_loader), sum_loss/count))"
      ],
      "execution_count": null,
      "outputs": []
    },
    {
      "cell_type": "code",
      "metadata": {
        "id": "rKTKkT4JMZTT"
      },
      "source": [
        "def evaluate(transformer, question, question_mask, max_len, word_map):\n",
        "    \"\"\"\n",
        "    Performs Greedy Decoding with a batch size of 1\n",
        "    \"\"\"\n",
        "    rev_word_map = {v: k for k, v in word_map.items()}\n",
        "    transformer.eval()\n",
        "    start_token = word_map['<start>']\n",
        "    encoded = transformer.encode(question, question_mask)\n",
        "    words = torch.LongTensor([[start_token]]).to(device)\n",
        "    \n",
        "    for step in range(max_len - 1):\n",
        "        size = words.shape[1]\n",
        "        target_mask = torch.triu(torch.ones(size, size)).transpose(0, 1).type(dtype=torch.uint8)\n",
        "        target_mask = target_mask.to(device).unsqueeze(0).unsqueeze(0)\n",
        "        decoded = transformer.decode(words, target_mask, encoded, question_mask)\n",
        "        predictions = transformer.logit(decoded[:, -1])\n",
        "        _, next_word = torch.max(predictions, dim = 1)\n",
        "        next_word = next_word.item()\n",
        "        if next_word == word_map['<end>']:\n",
        "            break\n",
        "        words = torch.cat([words, torch.LongTensor([[next_word]]).to(device)], dim = 1)   # (1,step+2)\n",
        "        \n",
        "    # Construct Sentence\n",
        "    if words.dim() == 2:\n",
        "        words = words.squeeze(0)\n",
        "        words = words.tolist()\n",
        "        \n",
        "    sen_idx = [w for w in words if w not in {word_map['<start>']}]\n",
        "    sentence = ' '.join([rev_word_map[sen_idx[k]] for k in range(len(sen_idx))])\n",
        "    \n",
        "    return sentence"
      ],
      "execution_count": null,
      "outputs": []
    },
    {
      "cell_type": "code",
      "metadata": {
        "colab": {
          "base_uri": "https://localhost:8080/"
        },
        "id": "SIaZCW0_MZTT",
        "outputId": "041ecbbf-a315-4b59-a5cc-952bb5640c5e"
      },
      "source": [
        "for epoch in range(epochs):\n",
        "    \n",
        "    train(train_loader, transformer, criterion, epoch)\n",
        "    \n",
        "    state = {'epoch': epoch, 'transformer': transformer, 'transformer_optimizer': transformer_optimizer}\n",
        "    torch.save(state, 'checkpoint_' + str(epoch) + '.pth.tar')"
      ],
      "execution_count": null,
      "outputs": [
        {
          "output_type": "stream",
          "text": [
            "Epoch [0][0/2217]\tLoss: 7.469\n",
            "Epoch [0][100/2217]\tLoss: 6.790\n",
            "Epoch [0][200/2217]\tLoss: 6.226\n",
            "Epoch [0][300/2217]\tLoss: 5.792\n",
            "Epoch [0][400/2217]\tLoss: 5.527\n",
            "Epoch [0][500/2217]\tLoss: 5.363\n",
            "Epoch [0][600/2217]\tLoss: 5.249\n",
            "Epoch [0][700/2217]\tLoss: 5.167\n",
            "Epoch [0][800/2217]\tLoss: 5.104\n",
            "Epoch [0][900/2217]\tLoss: 5.051\n",
            "Epoch [0][1000/2217]\tLoss: 4.998\n",
            "Epoch [0][1100/2217]\tLoss: 4.950\n",
            "Epoch [0][1200/2217]\tLoss: 4.905\n",
            "Epoch [0][1300/2217]\tLoss: 4.863\n",
            "Epoch [0][1400/2217]\tLoss: 4.822\n",
            "Epoch [0][1500/2217]\tLoss: 4.784\n",
            "Epoch [0][1600/2217]\tLoss: 4.748\n",
            "Epoch [0][1700/2217]\tLoss: 4.714\n",
            "Epoch [0][1800/2217]\tLoss: 4.683\n",
            "Epoch [0][1900/2217]\tLoss: 4.655\n",
            "Epoch [0][2000/2217]\tLoss: 4.627\n",
            "Epoch [0][2100/2217]\tLoss: 4.602\n",
            "Epoch [0][2200/2217]\tLoss: 4.578\n",
            "Epoch [1][0/2217]\tLoss: 4.057\n",
            "Epoch [1][100/2217]\tLoss: 4.049\n",
            "Epoch [1][200/2217]\tLoss: 4.044\n",
            "Epoch [1][300/2217]\tLoss: 4.039\n",
            "Epoch [1][400/2217]\tLoss: 4.037\n",
            "Epoch [1][500/2217]\tLoss: 4.031\n",
            "Epoch [1][600/2217]\tLoss: 4.026\n",
            "Epoch [1][700/2217]\tLoss: 4.022\n",
            "Epoch [1][800/2217]\tLoss: 4.017\n",
            "Epoch [1][900/2217]\tLoss: 4.013\n",
            "Epoch [1][1000/2217]\tLoss: 4.011\n",
            "Epoch [1][1100/2217]\tLoss: 4.007\n",
            "Epoch [1][1200/2217]\tLoss: 4.004\n",
            "Epoch [1][1300/2217]\tLoss: 4.002\n",
            "Epoch [1][1400/2217]\tLoss: 3.998\n",
            "Epoch [1][1500/2217]\tLoss: 3.995\n",
            "Epoch [1][1600/2217]\tLoss: 3.991\n",
            "Epoch [1][1700/2217]\tLoss: 3.988\n",
            "Epoch [1][1800/2217]\tLoss: 3.985\n",
            "Epoch [1][1900/2217]\tLoss: 3.981\n",
            "Epoch [1][2000/2217]\tLoss: 3.978\n",
            "Epoch [1][2100/2217]\tLoss: 3.975\n",
            "Epoch [1][2200/2217]\tLoss: 3.972\n",
            "Epoch [2][0/2217]\tLoss: 3.798\n",
            "Epoch [2][100/2217]\tLoss: 3.873\n",
            "Epoch [2][200/2217]\tLoss: 3.875\n",
            "Epoch [2][300/2217]\tLoss: 3.876\n",
            "Epoch [2][400/2217]\tLoss: 3.878\n",
            "Epoch [2][500/2217]\tLoss: 3.876\n",
            "Epoch [2][600/2217]\tLoss: 3.874\n",
            "Epoch [2][700/2217]\tLoss: 3.873\n",
            "Epoch [2][800/2217]\tLoss: 3.873\n",
            "Epoch [2][900/2217]\tLoss: 3.872\n",
            "Epoch [2][1000/2217]\tLoss: 3.870\n",
            "Epoch [2][1100/2217]\tLoss: 3.868\n",
            "Epoch [2][1200/2217]\tLoss: 3.867\n",
            "Epoch [2][1300/2217]\tLoss: 3.865\n",
            "Epoch [2][1400/2217]\tLoss: 3.863\n",
            "Epoch [2][1500/2217]\tLoss: 3.863\n",
            "Epoch [2][1600/2217]\tLoss: 3.862\n",
            "Epoch [2][1700/2217]\tLoss: 3.860\n",
            "Epoch [2][1800/2217]\tLoss: 3.859\n",
            "Epoch [2][1900/2217]\tLoss: 3.856\n",
            "Epoch [2][2000/2217]\tLoss: 3.855\n",
            "Epoch [2][2100/2217]\tLoss: 3.853\n",
            "Epoch [2][2200/2217]\tLoss: 3.852\n",
            "Epoch [3][0/2217]\tLoss: 3.848\n",
            "Epoch [3][100/2217]\tLoss: 3.771\n",
            "Epoch [3][200/2217]\tLoss: 3.781\n",
            "Epoch [3][300/2217]\tLoss: 3.784\n",
            "Epoch [3][400/2217]\tLoss: 3.782\n",
            "Epoch [3][500/2217]\tLoss: 3.786\n",
            "Epoch [3][600/2217]\tLoss: 3.787\n",
            "Epoch [3][700/2217]\tLoss: 3.789\n",
            "Epoch [3][800/2217]\tLoss: 3.788\n",
            "Epoch [3][900/2217]\tLoss: 3.788\n",
            "Epoch [3][1000/2217]\tLoss: 3.787\n",
            "Epoch [3][1100/2217]\tLoss: 3.786\n",
            "Epoch [3][1200/2217]\tLoss: 3.786\n",
            "Epoch [3][1300/2217]\tLoss: 3.785\n",
            "Epoch [3][1400/2217]\tLoss: 3.785\n",
            "Epoch [3][1500/2217]\tLoss: 3.785\n",
            "Epoch [3][1600/2217]\tLoss: 3.784\n",
            "Epoch [3][1700/2217]\tLoss: 3.783\n",
            "Epoch [3][1800/2217]\tLoss: 3.783\n",
            "Epoch [3][1900/2217]\tLoss: 3.781\n",
            "Epoch [3][2000/2217]\tLoss: 3.781\n",
            "Epoch [3][2100/2217]\tLoss: 3.780\n",
            "Epoch [3][2200/2217]\tLoss: 3.779\n",
            "Epoch [4][0/2217]\tLoss: 3.814\n",
            "Epoch [4][100/2217]\tLoss: 3.721\n",
            "Epoch [4][200/2217]\tLoss: 3.722\n",
            "Epoch [4][300/2217]\tLoss: 3.729\n",
            "Epoch [4][400/2217]\tLoss: 3.730\n",
            "Epoch [4][500/2217]\tLoss: 3.731\n",
            "Epoch [4][600/2217]\tLoss: 3.730\n",
            "Epoch [4][700/2217]\tLoss: 3.733\n",
            "Epoch [4][800/2217]\tLoss: 3.734\n",
            "Epoch [4][900/2217]\tLoss: 3.734\n",
            "Epoch [4][1000/2217]\tLoss: 3.734\n",
            "Epoch [4][1100/2217]\tLoss: 3.734\n",
            "Epoch [4][1200/2217]\tLoss: 3.734\n",
            "Epoch [4][1300/2217]\tLoss: 3.735\n",
            "Epoch [4][1400/2217]\tLoss: 3.735\n",
            "Epoch [4][1500/2217]\tLoss: 3.734\n",
            "Epoch [4][1600/2217]\tLoss: 3.736\n",
            "Epoch [4][1700/2217]\tLoss: 3.736\n",
            "Epoch [4][1800/2217]\tLoss: 3.736\n",
            "Epoch [4][1900/2217]\tLoss: 3.737\n",
            "Epoch [4][2000/2217]\tLoss: 3.736\n",
            "Epoch [4][2100/2217]\tLoss: 3.736\n",
            "Epoch [4][2200/2217]\tLoss: 3.735\n",
            "Epoch [5][0/2217]\tLoss: 3.889\n",
            "Epoch [5][100/2217]\tLoss: 3.689\n",
            "Epoch [5][200/2217]\tLoss: 3.687\n",
            "Epoch [5][300/2217]\tLoss: 3.693\n",
            "Epoch [5][400/2217]\tLoss: 3.693\n",
            "Epoch [5][500/2217]\tLoss: 3.695\n",
            "Epoch [5][600/2217]\tLoss: 3.697\n",
            "Epoch [5][700/2217]\tLoss: 3.696\n",
            "Epoch [5][800/2217]\tLoss: 3.698\n",
            "Epoch [5][900/2217]\tLoss: 3.698\n",
            "Epoch [5][1000/2217]\tLoss: 3.699\n",
            "Epoch [5][1100/2217]\tLoss: 3.700\n",
            "Epoch [5][1200/2217]\tLoss: 3.700\n",
            "Epoch [5][1300/2217]\tLoss: 3.700\n",
            "Epoch [5][1400/2217]\tLoss: 3.700\n",
            "Epoch [5][1500/2217]\tLoss: 3.701\n",
            "Epoch [5][1600/2217]\tLoss: 3.702\n",
            "Epoch [5][1700/2217]\tLoss: 3.703\n",
            "Epoch [5][1800/2217]\tLoss: 3.703\n",
            "Epoch [5][1900/2217]\tLoss: 3.703\n",
            "Epoch [5][2000/2217]\tLoss: 3.702\n",
            "Epoch [5][2100/2217]\tLoss: 3.703\n",
            "Epoch [5][2200/2217]\tLoss: 3.703\n",
            "Epoch [6][0/2217]\tLoss: 3.600\n",
            "Epoch [6][100/2217]\tLoss: 3.660\n",
            "Epoch [6][200/2217]\tLoss: 3.663\n",
            "Epoch [6][300/2217]\tLoss: 3.659\n",
            "Epoch [6][400/2217]\tLoss: 3.663\n",
            "Epoch [6][500/2217]\tLoss: 3.664\n",
            "Epoch [6][600/2217]\tLoss: 3.668\n",
            "Epoch [6][700/2217]\tLoss: 3.670\n",
            "Epoch [6][800/2217]\tLoss: 3.672\n",
            "Epoch [6][900/2217]\tLoss: 3.673\n",
            "Epoch [6][1000/2217]\tLoss: 3.673\n",
            "Epoch [6][1100/2217]\tLoss: 3.673\n",
            "Epoch [6][1200/2217]\tLoss: 3.675\n",
            "Epoch [6][1300/2217]\tLoss: 3.676\n",
            "Epoch [6][1400/2217]\tLoss: 3.676\n",
            "Epoch [6][1500/2217]\tLoss: 3.677\n",
            "Epoch [6][1600/2217]\tLoss: 3.677\n",
            "Epoch [6][1700/2217]\tLoss: 3.677\n",
            "Epoch [6][1800/2217]\tLoss: 3.677\n",
            "Epoch [6][1900/2217]\tLoss: 3.678\n",
            "Epoch [6][2000/2217]\tLoss: 3.678\n",
            "Epoch [6][2100/2217]\tLoss: 3.678\n",
            "Epoch [6][2200/2217]\tLoss: 3.678\n",
            "Epoch [7][0/2217]\tLoss: 3.450\n",
            "Epoch [7][100/2217]\tLoss: 3.625\n",
            "Epoch [7][200/2217]\tLoss: 3.632\n",
            "Epoch [7][300/2217]\tLoss: 3.637\n",
            "Epoch [7][400/2217]\tLoss: 3.641\n",
            "Epoch [7][500/2217]\tLoss: 3.643\n",
            "Epoch [7][600/2217]\tLoss: 3.643\n",
            "Epoch [7][700/2217]\tLoss: 3.645\n",
            "Epoch [7][800/2217]\tLoss: 3.646\n",
            "Epoch [7][900/2217]\tLoss: 3.647\n",
            "Epoch [7][1000/2217]\tLoss: 3.650\n",
            "Epoch [7][1100/2217]\tLoss: 3.651\n",
            "Epoch [7][1200/2217]\tLoss: 3.650\n",
            "Epoch [7][1300/2217]\tLoss: 3.651\n",
            "Epoch [7][1400/2217]\tLoss: 3.652\n",
            "Epoch [7][1500/2217]\tLoss: 3.652\n",
            "Epoch [7][1600/2217]\tLoss: 3.653\n",
            "Epoch [7][1700/2217]\tLoss: 3.653\n",
            "Epoch [7][1800/2217]\tLoss: 3.654\n",
            "Epoch [7][1900/2217]\tLoss: 3.655\n",
            "Epoch [7][2000/2217]\tLoss: 3.655\n",
            "Epoch [7][2100/2217]\tLoss: 3.656\n",
            "Epoch [7][2200/2217]\tLoss: 3.656\n",
            "Epoch [8][0/2217]\tLoss: 3.536\n",
            "Epoch [8][100/2217]\tLoss: 3.607\n",
            "Epoch [8][200/2217]\tLoss: 3.618\n",
            "Epoch [8][300/2217]\tLoss: 3.619\n",
            "Epoch [8][400/2217]\tLoss: 3.620\n",
            "Epoch [8][500/2217]\tLoss: 3.625\n",
            "Epoch [8][600/2217]\tLoss: 3.624\n",
            "Epoch [8][700/2217]\tLoss: 3.627\n",
            "Epoch [8][800/2217]\tLoss: 3.627\n",
            "Epoch [8][900/2217]\tLoss: 3.629\n",
            "Epoch [8][1000/2217]\tLoss: 3.631\n",
            "Epoch [8][1100/2217]\tLoss: 3.633\n",
            "Epoch [8][1200/2217]\tLoss: 3.634\n",
            "Epoch [8][1300/2217]\tLoss: 3.634\n",
            "Epoch [8][1400/2217]\tLoss: 3.635\n",
            "Epoch [8][1500/2217]\tLoss: 3.634\n",
            "Epoch [8][1600/2217]\tLoss: 3.635\n",
            "Epoch [8][1700/2217]\tLoss: 3.635\n",
            "Epoch [8][1800/2217]\tLoss: 3.636\n",
            "Epoch [8][1900/2217]\tLoss: 3.637\n",
            "Epoch [8][2000/2217]\tLoss: 3.637\n",
            "Epoch [8][2100/2217]\tLoss: 3.638\n",
            "Epoch [8][2200/2217]\tLoss: 3.638\n"
          ],
          "name": "stdout"
        }
      ]
    },
    {
      "cell_type": "code",
      "metadata": {
        "id": "UtGxTDmRMZTT"
      },
      "source": [
        "checkpoint = torch.load('checkpoint_0.pth.tar')\n",
        "transformer = checkpoint['transformer']"
      ],
      "execution_count": null,
      "outputs": []
    },
    {
      "cell_type": "code",
      "metadata": {
        "id": "gbRYi_B5MZTU",
        "colab": {
          "base_uri": "https://localhost:8080/"
        },
        "outputId": "412bf8b9-c3d7-4206-888d-c0e8896a2baf"
      },
      "source": [
        "while(1):\n",
        "    question = input(\"Question: \") \n",
        "    if question == 'quit':\n",
        "        break\n",
        "    max_len = input(\"Maximum Reply Length: \")\n",
        "    enc_qus = [word_map.get(word, word_map['<unk>']) for word in question.split()]\n",
        "    question = torch.LongTensor(enc_qus).to(device).unsqueeze(0)\n",
        "    question_mask = (question!=0).to(device).unsqueeze(1).unsqueeze(1)  \n",
        "    sentence = evaluate(transformer, question, question_mask, int(max_len), word_map)\n",
        "    print(sentence)"
      ],
      "execution_count": null,
      "outputs": [
        {
          "output_type": "stream",
          "text": [
            "Question: Hi\n",
            "Maximum Reply Length: 3\n",
            "i dont\n",
            "Question: Hello\n",
            "Maximum Reply Length: 6\n",
            "i dont know what i\n",
            "Question: Kind of\n",
            "Maximum Reply Length: 9\n",
            "i dont know what i was a little\n"
          ],
          "name": "stdout"
        }
      ]
    },
    {
      "cell_type": "code",
      "metadata": {
        "id": "86h_Cl-DMZTU"
      },
      "source": [
        ""
      ],
      "execution_count": null,
      "outputs": []
    }
  ]
}